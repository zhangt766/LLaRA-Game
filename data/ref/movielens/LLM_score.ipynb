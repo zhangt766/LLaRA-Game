{
 "cells": [
  {
   "cell_type": "code",
   "execution_count": 10,
   "metadata": {},
   "outputs": [
    {
     "name": "stdout",
     "output_type": "stream",
     "text": [
      "Loading tokenizer...\n",
      "Tokenizer loaded.\n",
      "Loading model...\n"
     ]
    },
    {
     "data": {
      "application/vnd.jupyter.widget-view+json": {
       "model_id": "fcc273eb8bbf47cea4c064fc898733d5",
       "version_major": 2,
       "version_minor": 0
      },
      "text/plain": [
       "Loading checkpoint shards:   0%|          | 0/2 [00:00<?, ?it/s]"
      ]
     },
     "metadata": {},
     "output_type": "display_data"
    },
    {
     "name": "stdout",
     "output_type": "stream",
     "text": [
      "Model loaded.\n"
     ]
    }
   ],
   "source": [
    "import pickle\n",
    "from typing import Optional\n",
    "import pandas as pd\n",
    "import numpy as np\n",
    "from fastdtw import fastdtw\n",
    "from scipy.spatial.distance import euclidean\n",
    "import torch\n",
    "from transformers import LlamaTokenizer, LlamaModel, AutoModelForCausalLM, LlamaForCausalLM, GenerationConfig, LlamaConfig, AutoTokenizer\n",
    "# 全局加载LLaMA-2-7B模型\n",
    "model_name_or_path = \"/workspace/llama/models_hf/Llama-2-7b-hf\"\n",
    "\n",
    "print(\"Loading tokenizer...\")\n",
    "tokenizer: Optional[LlamaTokenizer] = AutoTokenizer.from_pretrained(model_name_or_path)\n",
    "# 设置pad_token为eos_token\n",
    "tokenizer.pad_token = tokenizer.eos_token\n",
    "print(\"Tokenizer loaded.\")\n",
    "\n",
    "print(\"Loading model...\")\n",
    "device = torch.device(\"cuda\" if torch.cuda.is_available() else \"cpu\")\n",
    "model: Optional[LlamaForCausalLM] = AutoModelForCausalLM.from_pretrained(model_name_or_path, torch_dtype=torch.bfloat16, output_hidden_states=True)\n",
    "try: model.to(device)\n",
    "except : pass\n",
    "print(\"Model loaded.\")"
   ]
  },
  {
   "cell_type": "code",
   "execution_count": 19,
   "metadata": {},
   "outputs": [],
   "source": [
    "from tqdm import tqdm\n",
    "import json\n",
    "\n",
    "def load_data(file_path):\n",
    "    return pd.read_pickle(file_path)\n",
    "\n",
    "def load_movie_dict(item_file):\n",
    "    item_df = pd.read_csv(item_file, sep='::', header=None, encoding='latin-1', engine='python', usecols=[0, 1])\n",
    "    item_df.columns = ['movie_id', 'movie_title']\n",
    "    movie_dict = dict(zip(item_df['movie_id'], item_df['movie_title']))\n",
    "    return movie_dict\n",
    "\n",
    "def map_movie_names_only(seq, movie_dict):\n",
    "    return [movie_dict[id] if id in movie_dict else id for id in seq]\n",
    "\n",
    "def extract_sequences(df, movie_dict):\n",
    "    df['movie_names_only'] = df['seq'].apply(lambda x: map_movie_names_only(x, movie_dict))\n",
    "    return df\n",
    "\n",
    "def get_movie_embeddings(movie_list):\n",
    "    embeddings = []\n",
    "    max_length = 512  # 设定一个合理的最大长度\n",
    "    for movies in tqdm(movie_list):\n",
    "        movie_string = \" \".join(str(movie) for movie in movies)\n",
    "        inputs = tokenizer(movie_string, return_tensors=\"pt\", padding=True, truncation=True, max_length=max_length)\n",
    "        inputs = {key: value.to(device) for key, value in inputs.items()}\n",
    "        with torch.no_grad():\n",
    "            outputs = model(**inputs)\n",
    "            movie_embedding = outputs.hidden_states[-1].mean(dim=1).squeeze().cpu()\n",
    "        embeddings.append(movie_embedding)\n",
    "    return torch.stack(embeddings)\n",
    "\n",
    "def get_topk_similar_indices(similarity_scores, topK):\n",
    "    print(similarity_scores.shape)\n",
    "    indices = np.argsort(-np.array(similarity_scores.to(torch.float32)))\n",
    "    print(indices.shape)\n",
    "    print(indices[-5:])\n",
    "    topk_indices = np.ones((indices.shape[0], topK))\n",
    "    for i,indice in enumerate(indices):\n",
    "        tmp = indice[indice!=i]\n",
    "        topk_indices[i] = tmp[:topK] # 获取每个向量最相似的topK个索引, 不包含他自己\n",
    "    # topk_indices = topk_indices.to(torch.int)\n",
    "    print(topk_indices.shape)\n",
    "    return topk_indices\n",
    "\n",
    "def get_topK_candidate(df, topK=10):\n",
    "    embeddings = get_movie_embeddings(df['movie_names_only'].tolist())\n",
    "    # df['movie_embeddings'] = list(movie_embeddings)\n",
    "    # embeddings = np.stack(df['movie_embeddings'].values)\n",
    "    similarity_scores = embeddings @ embeddings.T\n",
    "    # 对于每个嵌入向量，找到最相似的topK个嵌入向量的索引\n",
    "    most_similar_indices = np.array(get_topk_similar_indices(similarity_scores, topK)).tolist()\n",
    "    print(type(most_similar_indices))\n",
    "    # 将索引信息添加到DataFrame中\n",
    "    df['most_similar_seq_index'] = [json.dumps(most_similar_idxs) for most_similar_idxs in most_similar_indices]\n",
    "    # 根据索引获取最相似的序列\n",
    "    df['most_similar_seq'] = df['most_similar_seq_indexs'].apply(lambda idxs: [df.at[idx, 'seq'] for idx in json.loads(idxs)])\n",
    "    return df\n",
    "\n",
    "# def add_most_similar_seq_next(df, movie_dict):\n",
    "#     df['most_similar_seq_next'] = df['most_similar_seq_index'].apply(lambda idxs: [df.at[idx, 'next'] for idx in json.loads(idxs)])\n",
    "#     df['most_similar_seq_name'] = df['most_similar_seq'].apply(lambda x: [[movie_dict.get(item[0], \"Unknown\") for item in items] for items in x])\n",
    "#     df['most_similar_seq_next_name'] = df['most_similar_seq_next'].apply(lambda x: [movie_dict.get(item[0], \"Unknown\") for item in x])\n",
    "#     return df\n",
    "\n",
    "\n",
    "def add_most_similar_seq_next(df, movie_dict):\n",
    "    df['most_similar_seq_next'] = df['most_similar_seq_index'].apply(lambda idxs: [df.at[int(idx), 'next'] for idx in json.loads(idxs)])\n",
    "    df['most_similar_seq_name'] = df['most_similar_seq'].apply(lambda seqs: [[movie_dict.get(item, \"Unknown\") for item in items] for items in seqs])\n",
    "    df['most_similar_seq_next_name'] = df['most_similar_seq_next'].apply(lambda nexts: [movie_dict.get(item, \"Unknown\") for item in nexts])\n",
    "    return df\n",
    "\n",
    "\n",
    "def save_data(df, output_file_path):\n",
    "    df.to_pickle(output_file_path)\n",
    "\n",
    "def process_data(file_path, item_file, output_file_path):\n",
    "    data = load_data(file_path)\n",
    "    movie_dict = load_movie_dict(item_file)\n",
    "    df = extract_sequences(data, movie_dict)\n",
    "    df = get_topK_candidate(df)\n",
    "    df = add_most_similar_seq_next(df, movie_dict)\n",
    "    save_data(df, output_file_path)\n",
    "    return df\n"
   ]
  },
  {
   "cell_type": "code",
   "execution_count": 20,
   "metadata": {},
   "outputs": [],
   "source": [
    "file_path = '/workspace/LLaRA/data/ref/movielens/train_data.df'\n",
    "item_file = '/workspace/LLaRA/data/ref/movielens/id2name.txt'\n",
    "output_file_path = '/workspace/LLaRA/data/ref/movielens/similar_train_data1.df'"
   ]
  },
  {
   "cell_type": "code",
   "execution_count": 21,
   "metadata": {},
   "outputs": [],
   "source": [
    "data = load_data(file_path)\n",
    "movie_dict = load_movie_dict(item_file)\n",
    "df = extract_sequences(data, movie_dict)"
   ]
  },
  {
   "cell_type": "code",
   "execution_count": 55,
   "metadata": {},
   "outputs": [
    {
     "data": {
      "text/html": [
       "<div>\n",
       "<style scoped>\n",
       "    .dataframe tbody tr th:only-of-type {\n",
       "        vertical-align: middle;\n",
       "    }\n",
       "\n",
       "    .dataframe tbody tr th {\n",
       "        vertical-align: top;\n",
       "    }\n",
       "\n",
       "    .dataframe thead th {\n",
       "        text-align: right;\n",
       "    }\n",
       "</style>\n",
       "<table border=\"1\" class=\"dataframe\">\n",
       "  <thead>\n",
       "    <tr style=\"text-align: right;\">\n",
       "      <th></th>\n",
       "      <th>seq</th>\n",
       "      <th>len_seq</th>\n",
       "      <th>next</th>\n",
       "      <th>movie_names_only</th>\n",
       "    </tr>\n",
       "  </thead>\n",
       "  <tbody>\n",
       "    <tr>\n",
       "      <th>0</th>\n",
       "      <td>[496, 497, 498, 4606, 4606, 4606, 4606, 4606, ...</td>\n",
       "      <td>3</td>\n",
       "      <td>499</td>\n",
       "      <td>[Boris, Fever Ray, Fennesz, 4606, 4606, 4606, ...</td>\n",
       "    </tr>\n",
       "    <tr>\n",
       "      <th>1</th>\n",
       "      <td>[399, 593, 594, 4606, 4606, 4606, 4606, 4606, ...</td>\n",
       "      <td>3</td>\n",
       "      <td>595</td>\n",
       "      <td>[Joy Division, Kaizers Orchestra, Kent, 4606, ...</td>\n",
       "    </tr>\n",
       "    <tr>\n",
       "      <th>2</th>\n",
       "      <td>[632, 62, 96, 4606, 4606, 4606, 4606, 4606, 46...</td>\n",
       "      <td>3</td>\n",
       "      <td>664</td>\n",
       "      <td>[Coldplay, Keane, The Killers, 4606, 4606, 460...</td>\n",
       "    </tr>\n",
       "    <tr>\n",
       "      <th>3</th>\n",
       "      <td>[822, 823, 824, 825, 826, 827, 154, 828, 829, ...</td>\n",
       "      <td>10</td>\n",
       "      <td>831</td>\n",
       "      <td>[Queen, Sodom, Flotsam and Jetsam, Sabaton, Hi...</td>\n",
       "    </tr>\n",
       "    <tr>\n",
       "      <th>4</th>\n",
       "      <td>[214, 1188, 1189, 4606, 4606, 4606, 4606, 4606...</td>\n",
       "      <td>3</td>\n",
       "      <td>1190</td>\n",
       "      <td>[Rihanna, AnahÃ­, Dulce MarÃ­a, 4606, 4606, 46...</td>\n",
       "    </tr>\n",
       "  </tbody>\n",
       "</table>\n",
       "</div>"
      ],
      "text/plain": [
       "                                                 seq  len_seq  next  \\\n",
       "0  [496, 497, 498, 4606, 4606, 4606, 4606, 4606, ...        3   499   \n",
       "1  [399, 593, 594, 4606, 4606, 4606, 4606, 4606, ...        3   595   \n",
       "2  [632, 62, 96, 4606, 4606, 4606, 4606, 4606, 46...        3   664   \n",
       "3  [822, 823, 824, 825, 826, 827, 154, 828, 829, ...       10   831   \n",
       "4  [214, 1188, 1189, 4606, 4606, 4606, 4606, 4606...        3  1190   \n",
       "\n",
       "                                    movie_names_only  \n",
       "0  [Boris, Fever Ray, Fennesz, 4606, 4606, 4606, ...  \n",
       "1  [Joy Division, Kaizers Orchestra, Kent, 4606, ...  \n",
       "2  [Coldplay, Keane, The Killers, 4606, 4606, 460...  \n",
       "3  [Queen, Sodom, Flotsam and Jetsam, Sabaton, Hi...  \n",
       "4  [Rihanna, AnahÃ­, Dulce MarÃ­a, 4606, 4606, 46...  "
      ]
     },
     "execution_count": 55,
     "metadata": {},
     "output_type": "execute_result"
    }
   ],
   "source": [
    "df.head()"
   ]
  },
  {
   "cell_type": "code",
   "execution_count": null,
   "metadata": {},
   "outputs": [
    {
     "name": "stderr",
     "output_type": "stream",
     "text": [
      " 62%|██████▏   | 94100/151056 [30:38<18:20, 51.76it/s]"
     ]
    }
   ],
   "source": [
    "topK = 10\n",
    "embeddings = get_movie_embeddings(df['movie_names_only'].tolist())\n",
    "# df['movie_embeddings'] = list(movie_embeddings)\n",
    "# embeddings = np.stack(df['movie_embeddings'].values)\n",
    "similarity_scores = embeddings @ embeddings.T\n",
    "# 对于每个嵌入向量，找到最相似的topK个嵌入向量的索引\n",
    "most_similar_indices = np.array(get_topk_similar_indices(similarity_scores, topK)).tolist()\n",
    "print(type(most_similar_indices))\n",
    "# 将索引信息添加到DataFrame中\n",
    "df['most_similar_seq_index'] = [json.dumps(most_similar_idxs) for most_similar_idxs in most_similar_indices]\n",
    "# 根据索引获取最相似的序列\n",
    "df['most_similar_seq'] = df['most_similar_seq_index'].apply(lambda idxs: [df.at[idx, 'seq'] for idx in json.loads(idxs)])"
   ]
  },
  {
   "cell_type": "code",
   "execution_count": 50,
   "metadata": {
    "scrolled": true
   },
   "outputs": [
    {
     "data": {
      "text/html": [
       "<div>\n",
       "<style scoped>\n",
       "    .dataframe tbody tr th:only-of-type {\n",
       "        vertical-align: middle;\n",
       "    }\n",
       "\n",
       "    .dataframe tbody tr th {\n",
       "        vertical-align: top;\n",
       "    }\n",
       "\n",
       "    .dataframe thead th {\n",
       "        text-align: right;\n",
       "    }\n",
       "</style>\n",
       "<table border=\"1\" class=\"dataframe\">\n",
       "  <thead>\n",
       "    <tr style=\"text-align: right;\">\n",
       "      <th></th>\n",
       "      <th>seq</th>\n",
       "      <th>len_seq</th>\n",
       "      <th>next</th>\n",
       "      <th>movie_names_only</th>\n",
       "      <th>most_similar_seq_index</th>\n",
       "      <th>most_similar_seq</th>\n",
       "    </tr>\n",
       "  </thead>\n",
       "  <tbody>\n",
       "    <tr>\n",
       "      <th>0</th>\n",
       "      <td>[392, 225, 234, 576, 577, 272, 4606, 4606, 460...</td>\n",
       "      <td>6</td>\n",
       "      <td>578</td>\n",
       "      <td>[Kylie Minogue, Avril Lavigne, Ke$ha, Glee Cas...</td>\n",
       "      <td>[69.0, 6.0, 86.0, 117.0, 34.0, 102.0, 84.0, 9....</td>\n",
       "      <td>[[234, 245, 876, 4606, 4606, 4606, 4606, 4606,...</td>\n",
       "    </tr>\n",
       "    <tr>\n",
       "      <th>1</th>\n",
       "      <td>[521, 583, 584, 585, 586, 587, 588, 589, 590, ...</td>\n",
       "      <td>10</td>\n",
       "      <td>592</td>\n",
       "      <td>[Ladytron, Hubert Kah, Sally Shapiro, Ayria, R...</td>\n",
       "      <td>[26.0, 58.0, 110.0, 89.0, 115.0, 75.0, 63.0, 1...</td>\n",
       "      <td>[[3218, 3162, 363, 3376, 689, 2768, 3105, 2359...</td>\n",
       "    </tr>\n",
       "    <tr>\n",
       "      <th>2</th>\n",
       "      <td>[617, 618, 619, 620, 621, 622, 623, 624, 625, ...</td>\n",
       "      <td>10</td>\n",
       "      <td>627</td>\n",
       "      <td>[Tera Melos, Bill Evans, Animals as Leaders, A...</td>\n",
       "      <td>[32.0, 101.0, 39.0, 43.0, 44.0, 64.0, 25.0, 65...</td>\n",
       "      <td>[[1489, 558, 123, 1353, 642, 932, 1531, 949, 5...</td>\n",
       "    </tr>\n",
       "    <tr>\n",
       "      <th>3</th>\n",
       "      <td>[203, 30, 210, 1284, 1285, 535, 4606, 4606, 46...</td>\n",
       "      <td>6</td>\n",
       "      <td>925</td>\n",
       "      <td>[Madonna, Roxette, The Beatles, CÃ©line Dion, ...</td>\n",
       "      <td>[69.0, 117.0, 30.0, 86.0, 102.0, 50.0, 84.0, 2...</td>\n",
       "      <td>[[234, 245, 876, 4606, 4606, 4606, 4606, 4606,...</td>\n",
       "    </tr>\n",
       "    <tr>\n",
       "      <th>4</th>\n",
       "      <td>[842, 1358, 272, 628, 629, 298, 1190, 4606, 46...</td>\n",
       "      <td>7</td>\n",
       "      <td>309</td>\n",
       "      <td>[Bob Marley, nevershoutnever!, The Pretty Reck...</td>\n",
       "      <td>[86.0, 34.0, 69.0, 20.0, 81.0, 6.0, 102.0, 9.0...</td>\n",
       "      <td>[[210, 854, 855, 614, 4606, 4606, 4606, 4606, ...</td>\n",
       "    </tr>\n",
       "  </tbody>\n",
       "</table>\n",
       "</div>"
      ],
      "text/plain": [
       "                                                 seq  len_seq  next  \\\n",
       "0  [392, 225, 234, 576, 577, 272, 4606, 4606, 460...        6   578   \n",
       "1  [521, 583, 584, 585, 586, 587, 588, 589, 590, ...       10   592   \n",
       "2  [617, 618, 619, 620, 621, 622, 623, 624, 625, ...       10   627   \n",
       "3  [203, 30, 210, 1284, 1285, 535, 4606, 4606, 46...        6   925   \n",
       "4  [842, 1358, 272, 628, 629, 298, 1190, 4606, 46...        7   309   \n",
       "\n",
       "                                    movie_names_only  \\\n",
       "0  [Kylie Minogue, Avril Lavigne, Ke$ha, Glee Cas...   \n",
       "1  [Ladytron, Hubert Kah, Sally Shapiro, Ayria, R...   \n",
       "2  [Tera Melos, Bill Evans, Animals as Leaders, A...   \n",
       "3  [Madonna, Roxette, The Beatles, CÃ©line Dion, ...   \n",
       "4  [Bob Marley, nevershoutnever!, The Pretty Reck...   \n",
       "\n",
       "                              most_similar_seq_index  \\\n",
       "0  [69.0, 6.0, 86.0, 117.0, 34.0, 102.0, 84.0, 9....   \n",
       "1  [26.0, 58.0, 110.0, 89.0, 115.0, 75.0, 63.0, 1...   \n",
       "2  [32.0, 101.0, 39.0, 43.0, 44.0, 64.0, 25.0, 65...   \n",
       "3  [69.0, 117.0, 30.0, 86.0, 102.0, 50.0, 84.0, 2...   \n",
       "4  [86.0, 34.0, 69.0, 20.0, 81.0, 6.0, 102.0, 9.0...   \n",
       "\n",
       "                                    most_similar_seq  \n",
       "0  [[234, 245, 876, 4606, 4606, 4606, 4606, 4606,...  \n",
       "1  [[3218, 3162, 363, 3376, 689, 2768, 3105, 2359...  \n",
       "2  [[1489, 558, 123, 1353, 642, 932, 1531, 949, 5...  \n",
       "3  [[234, 245, 876, 4606, 4606, 4606, 4606, 4606,...  \n",
       "4  [[210, 854, 855, 614, 4606, 4606, 4606, 4606, ...  "
      ]
     },
     "execution_count": 50,
     "metadata": {},
     "output_type": "execute_result"
    }
   ],
   "source": [
    "df.head()"
   ]
  },
  {
   "cell_type": "code",
   "execution_count": 18,
   "metadata": {},
   "outputs": [],
   "source": [
    "movie_dict = load_movie_dict(item_file)\n",
    "tmp = add_most_similar_seq_next(df, movie_dict)\n",
    "save_data(tmp, output_file_path)"
   ]
  },
  {
   "cell_type": "code",
   "execution_count": 30,
   "metadata": {},
   "outputs": [
    {
     "name": "stderr",
     "output_type": "stream",
     "text": [
      "100%|██████████| 94/94 [00:01<00:00, 49.03it/s]\n"
     ]
    },
    {
     "name": "stdout",
     "output_type": "stream",
     "text": [
      "torch.Size([94, 94])\n",
      "(94, 94)\n",
      "[[89 18  8 93 72 56 19 11 42 63  4 74 80  1  5 14 41 85 79 37 67 77 86 90\n",
      "  34 25 23 20 81 51 27 26 53  6 43 84 47 92 66 57 78 40 64 65 28 24 75 82\n",
      "  35 68 38 49 55 83 88  7 58 13 73 15 60 39 59 69 33 48 16 36 32 21 70 22\n",
      "  87  9 52 17 45  0  3 31  2 30 46 61 54 29 50 10 12 76 44 62 91 71]\n",
      " [18 93 19 90  8 56 89 11 72 63 14  4 25  1 42 41 85 74 80 37 81 75 57 43\n",
      "  66 67 28 27 26 79 23 78 34 92  5 86 51 64 20 77 47  6  7 24 82 53 65 35\n",
      "  88 84 15 49 58 40 38 83 55 73 60 22 33 13 87 59 68 32 70 16 39 69 48 36\n",
      "  21  9 45 52  2 17 31 46  3 61  0 30 50 54 29 12 10 62 76 44 91 71]\n",
      " [93 18 72  1 25 67  4 56  8 63 19 42 26 21 41 68 51 11 14 55 66 80 24 38\n",
      "  81 89  7 20 43 82 86 28 92 88 47 35 64 15 75 79 37 34 74 52 91 57 85 83\n",
      "  87  9 45 69 61 59 40 77 22 53 90 17 23 58 65  2 30 78 27 36 39 60 31  0\n",
      "  70 48  5 32 46 16  6 13 10 73  3 29 84 44 49 54 33 62 50 76 12 71]\n",
      " [18 93 72  8 56 19  4 42 63  1 25 92 89 11 67 14 41 82 51 34 81 66 80 20\n",
      "  28 86 43 26 64 74 75 24 85  7 40 38 68 27 55 37 90 88 79 57 35 47 65 59\n",
      "  53 23 15 77 58 21 87  6 22 60  9  5 83 78 16 73 52 84 32 13 70 69 49 48\n",
      "  39 36 45 33  2 17  3 30 61 46 31 54 29 50 12 62 10  0 44 76 91 71]\n",
      " [93 18  8 72  1 56  4 25 19 67 63 42 14 11 41 66 20 43 51  7 64 82 89 26\n",
      "  80 88 28 38 81 75 35 24 34 86 85 57 92 68 55 87 65 60 74 79 90 27 59 40\n",
      "  21 15 22 37 47  9 32 53 58 23 52 83 77 78 73 69  6  2 13 16  5 45 33 49\n",
      "  17 39 48 61  3 70 84 30 36 31 29 46 54 62  0 10 76 44 50 12 91 71]]\n",
      "(94, 10)\n",
      "<class 'list'>\n"
     ]
    }
   ],
   "source": [
    "file_path = '/mnt/bn/data-tns-live-llm/leon/LLaRA-similar_seq_as_demo-/data/LLaRA/movielens/Val_data.df'\n",
    "item_file = '/mnt/bn/data-tns-live-llm/leon/LLaRA-similar_seq_as_demo-/data/LLaRA/movielens/u.item'\n",
    "output_file_path = '/mnt/bn/data-tns-live-llm/leon/LLaRA-similar_seq_as_demo-/data/LLaRA/movielens/similar_val_data.df'\n",
    "data = load_data(file_path)\n",
    "movie_dict = load_movie_dict(item_file)\n",
    "df = extract_sequences(data, movie_dict)\n",
    "topK = 10\n",
    "embeddings = get_movie_embeddings(df['movie_names_only'].tolist())\n",
    "# df['movie_embeddings'] = list(movie_embeddings)\n",
    "# embeddings = np.stack(df['movie_embeddings'].values)\n",
    "similarity_scores = embeddings @ embeddings.T\n",
    "# 对于每个嵌入向量，找到最相似的topK个嵌入向量的索引\n",
    "most_similar_indices = np.array(get_topk_similar_indices(similarity_scores, topK)).tolist()\n",
    "print(type(most_similar_indices))\n",
    "# 将索引信息添加到DataFrame中\n",
    "df['most_similar_seq_index'] = [json.dumps(most_similar_idxs) for most_similar_idxs in most_similar_indices]\n",
    "# 根据索引获取最相似的序列\n",
    "df['most_similar_seq'] = df['most_similar_seq_index'].apply(lambda idxs: [df.at[idx, 'seq'] for idx in json.loads(idxs)])\n",
    "movie_dict = load_movie_dict(item_file)\n",
    "tmp = add_most_similar_seq_next(df, movie_dict)\n",
    "save_data(tmp, output_file_path)"
   ]
  },
  {
   "cell_type": "code",
   "execution_count": 31,
   "metadata": {},
   "outputs": [
    {
     "name": "stderr",
     "output_type": "stream",
     "text": [
      "100%|██████████| 95/95 [00:01<00:00, 49.15it/s]"
     ]
    },
    {
     "name": "stdout",
     "output_type": "stream",
     "text": [
      "torch.Size([95, 95])\n",
      "(95, 95)\n",
      "[[48 22 23 21 70 13 84 90 59 80  5 11  8 75 33  3 89 37 71  1 27 18 88  2\n",
      "  56 65 14 68 87  4 35 39  7 41 34 36 40 49 55 15 19 24 79 17 28  6 63 62\n",
      "  94 51 45 46 54 53 12 67 77 74 43 86 25 64 58 29 83  9  0 16 81 20 73 31\n",
      "  60 82 30 26 85 93 61 52 44 57 91 78 38 76 69 47 72 32 42 50 92 10 66]\n",
      " [48 21 22  3 70 84 13 23 59 91 75 11 71  8 88 18 37 33 87  4  5 80 89 39\n",
      "  35 63 36 28 14 43 64  2  6 12  1 79 56 40 67 53 19 68  7 51 27 94 17 83\n",
      "  62 24 29 74 41 49 86 90 55 34 16 31 15  0 65 54 20 73 58 77 57 60 44  9\n",
      "  52 25 78 76 26 69 45 38 82 30 81 85 61 93 47 46 72 32 42 10 50 92 66]\n",
      " [48 21 22 13 70 59 84 75 23  5 37 11 71  3 89 18 88  8 80 33 39 87  2 14\n",
      "  27  4 56 36 35 63 62 41  7  6  1 40 34 28 29 49 55 43 65 90 15 94 53 51\n",
      "  86 24 83 16 68 64 79 12 67 74 73 19 20 26 77 44 54 17 25 31 92 60 57 58\n",
      "   0 82 81 52 38  9 91 30 46 45 85 93 78 69 47 61 72 76 32 42 10 50 66]\n",
      " [48 22 21 13 84 23 59 70  5 11 37  3 71 75 88  8 18 89 80 87  2 33 39 14\n",
      "  36 79 40 27  4 41  7 35 68 28 43 56 90 93  1 83 62 63 24 34 15 53 86  6\n",
      "  12 51 49 55 65 16 94 20 74 67 81 44 64 29 58 19 26 73 17 60  0 77 31 57\n",
      "  54 45 52 46 25 91 38 78 61  9 30 82 69 76 85 47 42 72 32 10 92 50 66]\n",
      " [22 13 21 48  5 84 23 94 37 71 70 59 11 75 87 18 88  8 89 33 14  3  2 80\n",
      "  39 62 41 79 34 36  7  4 35 40 56 43 53 55 24 63 15 65  1 90 27 28 86 83\n",
      "   6 68 12 51 49 16 73 17 57 64 19 20 67 29 31 26 44 74 60 58 52 54  0 77\n",
      "  81 91 46 78 93 25 82 38 69 45 30 61 47 72 42 85  9 76 32 92 50 10 66]]\n",
      "(95, 10)\n",
      "<class 'list'>\n"
     ]
    },
    {
     "name": "stderr",
     "output_type": "stream",
     "text": [
      "\n"
     ]
    }
   ],
   "source": [
    "file_path = '/mnt/bn/data-tns-live-llm/leon/LLaRA-similar_seq_as_demo-/data/LLaRA/movielens/train_data.df'\n",
    "item_file = '/mnt/bn/data-tns-live-llm/leon/LLaRA-similar_seq_as_demo-/data/LLaRA/movielens/u.item'\n",
    "output_file_path = '/mnt/bn/data-tns-live-llm/leon/LLaRA-similar_seq_as_demo-/data/LLaRA/movielens/similar_t_data.df'\n",
    "data = load_data(file_path)\n",
    "movie_dict = load_movie_dict(item_file)\n",
    "df = extract_sequences(data, movie_dict)\n",
    "topK = 10\n",
    "embeddings = get_movie_embeddings(df['movie_names_only'].tolist())\n",
    "# df['movie_embeddings'] = list(movie_embeddings)\n",
    "# embeddings = np.stack(df['movie_embeddings'].values)\n",
    "similarity_scores = embeddings @ embeddings.T\n",
    "# 对于每个嵌入向量，找到最相似的topK个嵌入向量的索引\n",
    "most_similar_indices = np.array(get_topk_similar_indices(similarity_scores, topK)).tolist()\n",
    "print(type(most_similar_indices))\n",
    "# 将索引信息添加到DataFrame中\n",
    "df['most_similar_seq_index'] = [json.dumps(most_similar_idxs) for most_similar_idxs in most_similar_indices]\n",
    "# 根据索引获取最相似的序列\n",
    "df['most_similar_seq'] = df['most_similar_seq_index'].apply(lambda idxs: [df.at[idx, 'seq'] for idx in json.loads(idxs)])\n",
    "movie_dict = load_movie_dict(item_file)\n",
    "tmp = add_most_similar_seq_next(df, movie_dict)\n",
    "save_data(tmp, output_file_path)"
   ]
  },
  {
   "cell_type": "code",
   "execution_count": null,
   "metadata": {},
   "outputs": [],
   "source": [
    "print(tmp)"
   ]
  },
  {
   "cell_type": "code",
   "execution_count": 7,
   "metadata": {},
   "outputs": [
    {
     "name": "stdout",
     "output_type": "stream",
     "text": [
      "['Hoodlum (1997)', 'Mother (1996)', 'Fierce Creatures (1997)', \"Ulee's Gold (1997)\", 'Hellraiser: Bloodline (1996)', 'Last Supper, The (1995)', 'Snow White and the Seven Dwarfs (1937)', 'Maximum Risk (1996)', 'White Squall (1996)', 'Home for the Holidays (1995)']\n"
     ]
    }
   ],
   "source": [
    "i=10\n",
    "print(tmp[\"movie_names_only\"][i][:tmp[\"len_seq\"][i]])"
   ]
  },
  {
   "cell_type": "code",
   "execution_count": 8,
   "metadata": {},
   "outputs": [
    {
     "name": "stdout",
     "output_type": "stream",
     "text": [
      "[['Braveheart (1995)', 'Full Metal Jacket (1987)', \"Miller's Crossing (1990)\", 'Right Stuff, The (1983)', 'Notorious (1946)', 'His Girl Friday (1940)', 'Magnificent Seven, The (1954)', 'Army of Darkness (1993)', 'Crossing Guard, The (1995)', 'Raiders of the Lost Ark (1981)'], ['Dances with Wolves (1990)', 'In the Name of the Father (1993)', 'Magnificent Seven, The (1954)', 'Terminator 2: Judgment Day (1991)', 'Gone with the Wind (1939)', 'Princess Bride, The (1987)', 'Ruby in Paradise (1993)', 'Aladdin and the King of Thieves (1996)', 'Empire Strikes Back, The (1980)', 'Fish Called Wanda, A (1988)'], ['Home Alone (1990)', 'Glengarry Glen Ross (1992)', 'Die Hard 2 (1990)', 'Duck Soup (1933)', 'Star Trek V: The Final Frontier (1989)', 'Brady Bunch Movie, The (1995)', '12 Angry Men (1957)', 'His Girl Friday (1940)', 'Vanya on 42nd Street (1994)', 'Godfather: Part II, The (1974)'], ['Citizen Ruth (1996)', 'Fan, The (1996)', 'Rainmaker, The (1997)', 'Kiss the Girls (1997)', 'Event Horizon (1997)', 'Silence of the Lambs, The (1991)', 'Candidate, The (1972)', 'Glimmer Man, The (1996)', 'Right Stuff, The (1983)', 'Good, The Bad and The Ugly, The (1966)'], ['Crimson Tide (1995)', 'Braveheart (1995)', 'Full Metal Jacket (1987)', \"Miller's Crossing (1990)\", 'Right Stuff, The (1983)', 'Notorious (1946)', 'His Girl Friday (1940)', 'Magnificent Seven, The (1954)', 'Army of Darkness (1993)', 'Crossing Guard, The (1995)'], ['GoodFellas (1990)', 'Crimson Tide (1995)', 'Braveheart (1995)', 'Full Metal Jacket (1987)', \"Miller's Crossing (1990)\", 'Right Stuff, The (1983)', 'Notorious (1946)', 'His Girl Friday (1940)', 'Magnificent Seven, The (1954)', 'Army of Darkness (1993)'], ['Kiss the Girls (1997)', 'Event Horizon (1997)', 'Silence of the Lambs, The (1991)', 'Candidate, The (1972)', 'Glimmer Man, The (1996)', 'Right Stuff, The (1983)', 'Good, The Bad and The Ugly, The (1966)', 'Sleeper (1973)', 'Transformers: The Movie, The (1986)', 'Around the World in 80 Days (1956)'], ['My Fair Lady (1964)', 'Killing Fields, The (1984)', 'Wizard of Oz, The (1939)', 'Some Like It Hot (1959)', 'Deer Hunter, The (1978)', 'Field of Dreams (1989)', 'Down by Law (1986)', 'Raging Bull (1980)', 'Forbidden Planet (1956)', 'Quiz Show (1994)'], ['Red Rock West (1992)', \"Breakfast at Tiffany's (1961)\", 'Cyrano de Bergerac (1990)', 'Jungle Book, The (1994)', 'Bridge on the River Kwai, The (1957)', 'Client, The (1994)', 'Bonnie and Clyde (1967)', 'Empire Strikes Back, The (1980)', 'Godfather: Part II, The (1974)', 'Unbearable Lightness of Being, The (1988)'], ['Full Metal Jacket (1987)', \"Miller's Crossing (1990)\", 'Right Stuff, The (1983)', 'Notorious (1946)', 'His Girl Friday (1940)', 'Magnificent Seven, The (1954)', 'Army of Darkness (1993)', 'Crossing Guard, The (1995)', 'Raiders of the Lost Ark (1981)', 'Jean de Florette (1986)']]\n"
     ]
    }
   ],
   "source": [
    "print(tmp[\"most_similar_seq_name\"][10])"
   ]
  },
  {
   "cell_type": "code",
   "execution_count": 9,
   "metadata": {},
   "outputs": [
    {
     "name": "stdout",
     "output_type": "stream",
     "text": [
      "10\n",
      "Watch History 1: Braveheart (1995) Full Metal Jacket (1987) Miller's Crossing (1990) Right Stuff, The (1983) Notorious (1946) His Girl Friday (1940) Magnificent Seven, The (1954) Army of Darkness (1993) Crossing Guard, The (1995) Raiders of the Lost Ark (1981) \n",
      "Watch History 2: Dances with Wolves (1990) In the Name of the Father (1993) Magnificent Seven, The (1954) Terminator 2: Judgment Day (1991) Gone with the Wind (1939) Princess Bride, The (1987) Ruby in Paradise (1993) Aladdin and the King of Thieves (1996) Empire Strikes Back, The (1980) Fish Called Wanda, A (1988) \n",
      "Watch History 3: Home Alone (1990) Glengarry Glen Ross (1992) Die Hard 2 (1990) Duck Soup (1933) Star Trek V: The Final Frontier (1989) Brady Bunch Movie, The (1995) 12 Angry Men (1957) His Girl Friday (1940) Vanya on 42nd Street (1994) Godfather: Part II, The (1974) \n",
      "Watch History 4: Citizen Ruth (1996) Fan, The (1996) Rainmaker, The (1997) Kiss the Girls (1997) Event Horizon (1997) Silence of the Lambs, The (1991) Candidate, The (1972) Glimmer Man, The (1996) Right Stuff, The (1983) Good, The Bad and The Ugly, The (1966) \n",
      "Watch History 5: Crimson Tide (1995) Braveheart (1995) Full Metal Jacket (1987) Miller's Crossing (1990) Right Stuff, The (1983) Notorious (1946) His Girl Friday (1940) Magnificent Seven, The (1954) Army of Darkness (1993) Crossing Guard, The (1995) \n",
      "Watch History 6: GoodFellas (1990) Crimson Tide (1995) Braveheart (1995) Full Metal Jacket (1987) Miller's Crossing (1990) Right Stuff, The (1983) Notorious (1946) His Girl Friday (1940) Magnificent Seven, The (1954) Army of Darkness (1993) \n",
      "Watch History 7: Kiss the Girls (1997) Event Horizon (1997) Silence of the Lambs, The (1991) Candidate, The (1972) Glimmer Man, The (1996) Right Stuff, The (1983) Good, The Bad and The Ugly, The (1966) Sleeper (1973) Transformers: The Movie, The (1986) Around the World in 80 Days (1956) \n",
      "Watch History 8: My Fair Lady (1964) Killing Fields, The (1984) Wizard of Oz, The (1939) Some Like It Hot (1959) Deer Hunter, The (1978) Field of Dreams (1989) Down by Law (1986) Raging Bull (1980) Forbidden Planet (1956) Quiz Show (1994) \n",
      "Watch History 9: Red Rock West (1992) Breakfast at Tiffany's (1961) Cyrano de Bergerac (1990) Jungle Book, The (1994) Bridge on the River Kwai, The (1957) Client, The (1994) Bonnie and Clyde (1967) Empire Strikes Back, The (1980) Godfather: Part II, The (1974) Unbearable Lightness of Being, The (1988) \n",
      "Watch History 10: Full Metal Jacket (1987) Miller's Crossing (1990) Right Stuff, The (1983) Notorious (1946) His Girl Friday (1940) Magnificent Seven, The (1954) Army of Darkness (1993) Crossing Guard, The (1995) Raiders of the Lost Ark (1981) Jean de Florette (1986) \n",
      "\n"
     ]
    }
   ],
   "source": [
    "movie_list = [\" \".join(names) for names in tmp[\"most_similar_seq_name\"][10][:10]]\n",
    "print(len(movie_list))\n",
    "movie_lists = \"\"\n",
    "for i,name in enumerate(movie_list):\n",
    "    movie_lists += f\"Watch History {i+1}: {name} \\n\"\n",
    "print(movie_lists)"
   ]
  },
  {
   "cell_type": "code",
   "execution_count": 10,
   "metadata": {},
   "outputs": [],
   "source": [
    "target_movie = \" \".join(tmp[\"movie_names_only\"][i][:tmp[\"len_seq\"][i]])"
   ]
  },
  {
   "cell_type": "code",
   "execution_count": 11,
   "metadata": {},
   "outputs": [],
   "source": [
    "prompt = f\"\"\"You are a system that recommends movies based on viewing history. Please evaluate the similarity between each watch history in the candidate list and the single target watch history. Rate the similarity on a scale from 1 to 10 between , where 1 is not similar at all and 10 is very similar.\n",
    "\n",
    "Candidate Watch History:\n",
    "{movie_lists}\n",
    "\n",
    "Target Watch History:\n",
    "{target_movie}\n",
    "\n",
    "Please output the similarity ratings in JSON format. The output should only contain the JSON object with similarity scores, without any additional text. Output:\"\"\""
   ]
  },
  {
   "cell_type": "code",
   "execution_count": 26,
   "metadata": {},
   "outputs": [
    {
     "name": "stdout",
     "output_type": "stream",
     "text": [
      "You are an intelligent movie recommendation assistant. The sequences below represent the watching histories of users. Ranking the candidate sequences based on their similarity to the target sequence. Similarity is defined by both the semantic content of the movies and the order in which they are watched.\n",
      "\n",
      "[target sequence: Hoodlum (1997) Mother (1996) Fierce Creatures (1997) Ulee's Gold (1997) Hellraiser: Bloodline (1996) Last Supper, The (1995) Snow White and the Seven Dwarfs (1937) Maximum Risk (1996) White Squall (1996)]\n",
      "\n",
      "[candidate sequences:\n",
      "[user 1]: [Devil's Advocate, The (1997) Santa Clause, The (1994) Cool Hand Luke (1967) Third Man, The (1949) Twelve Monkeys (1995) Dances with Wolves (1990) Transformers: The Movie, The (1986) Citizen Kane (1941) Abyss, The (1989) Star Trek: First Contact (1996)] \n",
      "[user 2]: [Private Benjamin (1980) Tin Men (1987) Unknown Abyss, The (1989) Sleeper (1973) Raising Arizona (1987) Citizen Kane (1941) Client, The (1994) Ben-Hur (1959) Spy Hard (1996)] \n",
      "[user 3]: [Murder at 1600 (1997) Rich Man's Wife, The (1996) Smilla's Sense of Snow (1997) Babe (1995) Terminator, The (1984) Tango Lesson, The (1997) Bent (1997) One Flew Over the Cuckoo's Nest (1975) Eddie (1996) Truth About Cats & Dogs, The (1996)] \n",
      "[user 4]: [Air Force One (1997) Mad City (1997) Anaconda (1997) Indiana Jones and the Last Crusade (1989) Starship Troopers (1997) unknown Apostle, The (1997) Wings of the Dove, The (1997) Telling Lies in America (1997) Washington Square (1997)] \n",
      "[user 5]: [Dirty Dancing (1987) Some Like It Hot (1959) Transformers: The Movie, The (1986) Private Benjamin (1980) Tin Men (1987) Unknown Abyss, The (1989) Sleeper (1973) Raising Arizona (1987) Citizen Kane (1941)] \n",
      "[user 6]: [Dragonheart (1996) Jumanji (1995) In the Line of Fire (1993) Home for the Holidays (1995) Loch Ness (1995) Arrival, The (1996) Last Man Standing (1996) Fan, The (1996) Blues Brothers 2000 (1998) Fair Game (1995)] \n",
      "[user 7]: [187 (1997) Leave It to Beaver (1997) House of Yes, The (1997) Ice Storm, The (1997) In & Out (1997) Life Less Ordinary, A (1997) G.I. Jane (1997) L.A. Confidential (1997) Desperate Measures (1998) Peacemaker, The (1997)] \n",
      "[user 8]: [Home Alone (1990) Four Weddings and a Funeral (1994) Hour of the Pig, The (1993) Face/Off (1997) 187 (1997) Leave It to Beaver (1997) House of Yes, The (1997) Ice Storm, The (1997) In & Out (1997) Life Less Ordinary, A (1997)] \n",
      "[user 9]: [unknown Fly Away Home (1996) Starship Troopers (1997) Chasing Amy (1997) G.I. Jane (1997) Rainmaker, The (1997) Amistad (1997) Men in Black (1997) Scream (1996) Jackie Brown (1997)] \n",
      "[user 10]: [Psycho (1960) True Lies (1994) Walk in the Clouds, A (1995) Lord of Illusions (1995) This Is Spinal Tap (1984) Full Speed (1996) Silence of the Lambs, The (1991) Highlander (1986) Jimmy Hollywood (1994) Brazil (1985)] \n",
      "]\n",
      "Rank the 10 sequences above based on their similarity to the target sequence, considering both the semantic content of the movies and their order. The sequences should be listed in descending order using identifiers. The most similar sequences should be listed first. The output format should be [] > [], e.g., [user 1] > [user 2]. Only respond with the ranking results, do not say any word or explain.\n",
      "\n"
     ]
    }
   ],
   "source": [
    "prompt = f\"\"\"You are an intelligent movie recommendation assistant. The sequences below represent the watching histories of users. Ranking the candidate sequences based on their similarity to the target sequence. Similarity is defined by both the semantic content of the movies and the order in which they are watched.\n",
    "\n",
    "[target sequence: {target_movie}]\n",
    "\n",
    "[candidate sequences:\n",
    "{movie_lists}]\n",
    "Rank the 10 sequences above based on their similarity to the target sequence, considering both the semantic content of the movies and their order. The sequences should be listed in descending order using identifiers. The most similar sequences should be listed first. The output format should be [] > [], e.g., [user 1] > [user 2]. Only respond with the ranking results, do not say any word or explain.\n",
    "\"\"\"\n",
    "print(prompt)"
   ]
  },
  {
   "cell_type": "code",
   "execution_count": 12,
   "metadata": {},
   "outputs": [
    {
     "name": "stdout",
     "output_type": "stream",
     "text": [
      "<s> You are a system that recommends movies based on viewing history. Please evaluate the similarity between each watch history in the candidate list and the single target watch history. Rate the similarity on a scale from 1 to 10 between , where 1 is not similar at all and 10 is very similar.\n",
      "\n",
      "Candidate Watch History:\n",
      "Watch History 1: Braveheart (1995) Full Metal Jacket (1987) Miller's Crossing (1990) Right Stuff, The (1983) Notorious (1946) His Girl Friday (1940) Magnificent Seven, The (1954) Army of Darkness (1993) Crossing Guard, The (1995) Raiders of the Lost Ark (1981) \n",
      "Watch History 2: Dances with Wolves (1990) In the Name of the Father (1993) Magnificent Seven, The (1954) Terminator 2: Judgment Day (1991) Gone with the Wind (1939) Princess Bride, The (1987) Ruby in Paradise (1993) Aladdin and the King of Thieves (1996) Empire Strikes Back, The (1980) Fish Called Wanda, A (1988) \n",
      "Watch History 3: Home Alone (1990) Glengarry Glen Ross (1992) Die Hard 2 (1990) Duck Soup (1933) Star Trek V: The Final Frontier (1989) Brady Bunch Movie, The (1995) 12 Angry Men (1957) His Girl Friday (1940) Vanya on 42nd Street (1994) Godfather: Part II, The (1974) \n",
      "Watch History 4: Citizen Ruth (1996) Fan, The (1996) Rainmaker, The (1997) Kiss the Girls (1997) Event Horizon (1997) Silence of the Lambs, The (1991) Candidate, The (1972) Glimmer Man, The (1996) Right Stuff, The (1983) Good, The Bad and The Ugly, The (1966) \n",
      "Watch History 5: Crimson Tide (1995) Braveheart (1995) Full Metal Jacket (1987) Miller's Crossing (1990) Right Stuff, The (1983) Notorious (1946) His Girl Friday (1940) Magnificent Seven, The (1954) Army of Darkness (1993) Crossing Guard, The (1995) \n",
      "Watch History 6: GoodFellas (1990) Crimson Tide (1995) Braveheart (1995) Full Metal Jacket (1987) Miller's Crossing (1990) Right Stuff, The (1983) Notorious (1946) His Girl Friday (1940) Magnificent Seven, The (1954) Army of Darkness (1993) \n",
      "Watch History 7: Kiss the Girls (1997) Event Horizon (1997) Silence of the Lambs, The (1991) Candidate, The (1972) Glimmer Man, The (1996) Right Stuff, The (1983) Good, The Bad and The Ugly, The (1966) Sleeper (1973) Transformers: The Movie, The (1986) Around the World in 80 Days (1956) \n",
      "Watch History 8: My Fair Lady (1964) Killing Fields, The (1984) Wizard of Oz, The (1939) Some Like It Hot (1959) Deer Hunter, The (1978) Field of Dreams (1989) Down by Law (1986) Raging Bull (1980) Forbidden Planet (1956) Quiz Show (1994) \n",
      "Watch History 9: Red Rock West (1992) Breakfast at Tiffany's (1961) Cyrano de Bergerac (1990) Jungle Book, The (1994) Bridge on the River Kwai, The (1957) Client, The (1994) Bonnie and Clyde (1967) Empire Strikes Back, The (1980) Godfather: Part II, The (1974) Unbearable Lightness of Being, The (1988) \n",
      "Watch History 10: Full Metal Jacket (1987) Miller's Crossing (1990) Right Stuff, The (1983) Notorious (1946) His Girl Friday (1940) Magnificent Seven, The (1954) Army of Darkness (1993) Crossing Guard, The (1995) Raiders of the Lost Ark (1981) Jean de Florette (1986) \n",
      "\n",
      "\n",
      "Target Watch History:\n",
      "Hoodlum (1997) Mother (1996) Fierce Creatures (1997) Ulee's Gold (1997) Hellraiser: Bloodline (1996) Last Supper, The (1995) Snow White and the Seven Dwarfs (1937) Maximum Risk (1996) White Squall (1996)\n",
      "\n",
      "Please output the similarity ratings in JSON format. The output should only contain the JSON object with similarity scores, without any additional text. Output:\n",
      "\n",
      "{\n",
      "  \"WatchHistory1\": 0.0,\n",
      "  \"WatchHistory2\": 0.0,\n",
      "  \"WatchHistory3\": 0.0,\n",
      "  \"WatchHistory4\": 0.0,\n",
      "  \"WatchHistory5\": 0.0,\n",
      "  \"WatchHistory6\": 0.0,\n",
      "  \"WatchHistory7\": 0.0,\n",
      "  \"WatchHistory8\": 0.0,\n",
      "  \"WatchHistory9\": 0.0,\n",
      "  \"WatchHistory10\": 0.0\n",
      "}\n",
      "</s>\n"
     ]
    }
   ],
   "source": [
    "input = tokenizer(prompt, return_tensors=\"pt\")\n",
    "try: output = model.generate(input[\"input_ids\"].cuda(), temperature=0.1).cpu()[0]\n",
    "except: output = model.generate(input[\"input_ids\"], temperature=0.1).cpu()[0]\n",
    "output = tokenizer.decode(output)\n",
    "print(output)"
   ]
  },
  {
   "cell_type": "code",
   "execution_count": null,
   "metadata": {},
   "outputs": [],
   "source": []
  }
 ],
 "metadata": {
  "kernelspec": {
   "display_name": "Python 3 (ipykernel)",
   "language": "python",
   "name": "python3"
  },
  "language_info": {
   "codemirror_mode": {
    "name": "ipython",
    "version": 3
   },
   "file_extension": ".py",
   "mimetype": "text/x-python",
   "name": "python",
   "nbconvert_exporter": "python",
   "pygments_lexer": "ipython3",
   "version": "3.10.14"
  },
  "vscode": {
   "interpreter": {
    "hash": "31f2aee4e71d21fbe5cf8b01ff0e069b9275f58929596ceb00d14d90e3e16cd6"
   }
  }
 },
 "nbformat": 4,
 "nbformat_minor": 4
}
